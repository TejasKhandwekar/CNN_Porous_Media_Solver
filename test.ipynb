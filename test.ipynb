{
 "cells": [
  {
   "cell_type": "code",
   "execution_count": 3,
   "metadata": {},
   "outputs": [],
   "source": [
    "import plotly.express as px\n",
    "import re\n",
    "from collections import Counter\n",
    "\n",
    "# Sample text\n",
    "text = \"\"\"My journey into data science was an unforeseen yet transformative one. My passion for physics initially led me to pursue Mechanical Engineering at Visvesvaraya National Institute of Technology, Nagpur. However, the pandemic-induced hiatus opened the door to a new horizon in data science, fundamentally altering my academic and professional trajectory, which I could not have anticipated. The pivotal moment came during the Myntra Hacker-Ramp National level hackathon, where my team clinched the second prize for our fashion-trend detection model using Instagram images. This accomplishment ignited a passion for data-driven insights and solidified my resolve to explore the profound impact of data science. My journey, transitioning from physics to mechanical engineering and then to data science, has been a serendipitous blend of curiosity, circumstance, and collaboration, setting the stage for a future marked by growth and innovation in data science. Consequently, I am now driven to pursue a Master’s in Data Science at Texas A&M University.\n",
    "\n",
    "During my time at Visvesvaraya National Institute of Technology, my academic journey was not just a path of knowledge acquisition but a dynamic experience that reshaped my skill set and instilled a profound appreciation for the possibilities within data science. I actively engaged with my coursework, exploring the intricacies of Computational Methods in Engineering, AI in Manufacturing, and AI for Engineers. These courses laid a solid foundation for my understanding of data science principles, introducing me to the nuances of data analysis and modeling. The synergy between coursework and hands-on projects was a highlight of my college experience. As I progressed through my academic years, I applied these teachings to practical projects, which significantly enriched my learning experience. One notable project, Automated Vibration Comfort Classification, exemplified the fusion of knowledge and application. In this endeavor, I harnessed control theory and MATLAB to construct a comprehensive vehicle vibration dataset. Leveraging 1D Convolutional Neural Networks, I successfully automated the classification of time-series vibrations into comfort scores, eliminating the subjectivity associated with human review. This project underscored the immense potential of data science in reshaping traditional domains, making them more efficient and objective. The pinnacle of my college journey was reached with my final-year thesis project, Porous Media Solver using CNN. In collaboration with a data science enthusiast professor, we developed a pioneering Convolutional Neural Network model. This model has the potential to significantly improve the simulation of fluid flows in porous media, by achieving higher simulation speeds without compromising accuracy. This experience solidified my commitment to Data Science.\n",
    "\n",
    "   Transitioning from a project management internship to a full-time data scientist role at ExxonMobil was a pivotal moment in my career. I expressed a deep interest in data science to my manager during the internship, driven by a passion to delve deeper into data and analytics. Through a proactive approach and a commitment to learning, I presented a compelling case, which led to an offer to join the data science team. As a full-time data scientist at ExxonMobil, I was an integral part of the Finance, Commercial, and Trading data science team, working closely with other cross-functional teams on a diverse array of statistical and machine learning projects. My work involved the development and deployment of data-driven solutions, resulting in substantial value addition of around $25M to the organization. I effectively utilized skills in data analysis, machine learning, and time-series forecasting to optimize various processes. Additionally, my adaptability and quick learning enabled me to contribute significantly to the team's growth and collaborative environment. My achievements were recognized by ExxonMobil, as I received the India Inc. award from the Lead Country Manager of India for Time Series Forecasting work across the entire Chemical business of ExxonMobil. The Course “Methods in Time Series Analysis”  will help me achieve extensive knowledge in this immensely complex task of forecasting, which when coupled with my relevant industry experience will help me grow and excel in this field.\n",
    "\n",
    "While my contributions were substantial, the experience of collaborating with colleagues from diverse backgrounds, including many master's and Ph.D. holders, further ignited my ambition. Witnessing their expertise in complex subjects like statistics, Bayesian analysis, and Reinforcement Learning motivated me to explore these intricate subjects in-depth and apply them practically. This exposure expanded my horizons significantly, compelling me to embark on a journey of growth and learning.\n",
    " \n",
    "I firmly believe that data science can be the big equalizer, bridging gaps and helping people in numerous ways. It is a multidisciplinary field that has the potential to revolutionize industries and improve the quality of life for individuals and communities. I am particularly passionate about the concept of sustainable Data Science, where we leverage the capabilities of AI to build environmentally sustainable solutions. This includes applications in areas such as renewable energy optimization, resource conservation, and environmental monitoring. In my pursuit of a Master's in Data Science at Texas A&M University, I intend to further align my academic and professional journey with these career goals. I see this program as a vital step in acquiring the knowledge and skills necessary to make a meaningful impact in the field of Ethical and Sustainable Data Science. Through my active participation in the Texas A&M Urban Hydro Informatics Working Group, I aspire to join hands in tackling tangible issues related to sustainable urban development and environmental preservation. My particular interest lies in making a meaningful contribution to their Water Demand Forecasting project\n",
    " \n",
    "In summary, my journey from Mechanical Engineering to my recognized accomplishments, such as winning the Myntra Hacker-Ramp hackathon and receiving the India Inc. award at ExxonMobil, underscores my dedication to data science. With my academic and professional experiences, I am well-prepared for the challenges and opportunities that the program at Texas A&M University offers. Texas A&M University's exceptional data science program is the ideal platform for my growth. If admitted, I'm committed to contributing through advanced research, industry insights, and active participation in the university community, aspiring to make a significant impact in the field and foster a culture of collaboration and innovation.\n",
    "\n",
    " \"\"\"\n",
    "\n",
    "\n"
   ]
  },
  {
   "cell_type": "code",
   "execution_count": 4,
   "metadata": {},
   "outputs": [
    {
     "data": {
      "application/vnd.plotly.v1+json": {
       "config": {
        "plotlyServerURL": "https://plot.ly"
       },
       "data": [
        {
         "alignmentgroup": "True",
         "hovertemplate": "Words=%{x}<br>Frequency=%{y}<extra></extra>",
         "legendgroup": "",
         "marker": {
          "color": "#636efa",
          "pattern": {
           "shape": ""
          }
         },
         "name": "",
         "offsetgroup": "",
         "orientation": "v",
         "showlegend": false,
         "textposition": "auto",
         "type": "bar",
         "x": [
          "data",
          "science",
          "i",
          "for",
          "at",
          "journey",
          "time",
          "learning",
          "was",
          "experience",
          "as",
          "academic",
          "from",
          "s",
          "university",
          "project",
          "exxonmobil",
          "engineering",
          "which",
          "team",
          "driven",
          "by",
          "growth",
          "knowledge",
          "that",
          "these",
          "analysis",
          "through",
          "significantly",
          "series",
          "forecasting",
          "field",
          "sustainable",
          "into",
          "passion",
          "mechanical",
          "national",
          "professional",
          "during",
          "model",
          "impact",
          "has",
          "collaboration",
          "am",
          "master",
          "ai",
          "on",
          "projects",
          "potential",
          "india",
          "program",
          "one",
          "physics",
          "led",
          "pursue",
          "visvesvaraya",
          "institute",
          "technology",
          "not",
          "pivotal",
          "moment",
          "myntra",
          "hacker",
          "ramp",
          "hackathon",
          "where",
          "using",
          "ignited",
          "insights",
          "solidified",
          "explore",
          "profound",
          "transitioning",
          "innovation",
          "coursework",
          "methods",
          "hands",
          "college",
          "automated",
          "vibration",
          "comfort",
          "classification",
          "convolutional",
          "neural",
          "making",
          "them",
          "porous",
          "media",
          "we",
          "improve",
          "simulation",
          "commitment",
          "internship",
          "full",
          "scientist",
          "career",
          "interest",
          "manager",
          "compelling",
          "join",
          "working",
          "diverse",
          "machine",
          "work",
          "development",
          "solutions",
          "substantial",
          "skills",
          "were",
          "recognized",
          "inc",
          "award",
          "will",
          "help",
          "complex",
          "industry",
          "further",
          "their",
          "subjects",
          "such",
          "environmental",
          "make",
          "meaningful",
          "active",
          "participation",
          "urban",
          "unforeseen",
          "yet",
          "transformative",
          "initially",
          "nagpur",
          "however",
          "pandemic",
          "induced",
          "hiatus",
          "opened",
          "door",
          "new",
          "horizon",
          "fundamentally",
          "altering",
          "trajectory",
          "could",
          "have",
          "anticipated",
          "came",
          "level",
          "clinched",
          "second",
          "prize",
          "our",
          "fashion",
          "trend",
          "detection",
          "instagram",
          "images",
          "accomplishment",
          "resolve",
          "then",
          "been",
          "serendipitous",
          "blend",
          "curiosity",
          "circumstance",
          "setting",
          "stage",
          "future",
          "marked",
          "consequently",
          "now",
          "just",
          "path",
          "acquisition",
          "but",
          "dynamic",
          "reshaped",
          "skill",
          "set",
          "instilled",
          "appreciation",
          "possibilities",
          "within",
          "actively",
          "engaged",
          "exploring",
          "intricacies",
          "computational",
          "manufacturing",
          "engineers",
          "courses",
          "laid",
          "solid",
          "foundation",
          "understanding",
          "principles",
          "introducing",
          "nuances",
          "modeling",
          "synergy",
          "between",
          "highlight",
          "progressed",
          "years",
          "applied",
          "teachings",
          "practical",
          "enriched",
          "notable",
          "exemplified",
          "fusion",
          "application",
          "endeavor",
          "harnessed",
          "control",
          "theory",
          "matlab",
          "construct",
          "comprehensive",
          "vehicle",
          "dataset",
          "leveraging",
          "1d",
          "networks",
          "successfully",
          "vibrations",
          "scores",
          "eliminating",
          "subjectivity",
          "associated",
          "human",
          "review",
          "underscored",
          "immense",
          "reshaping",
          "traditional",
          "domains",
          "more",
          "efficient",
          "objective",
          "pinnacle",
          "reached",
          "final",
          "year",
          "thesis",
          "solver",
          "cnn",
          "enthusiast",
          "professor",
          "developed",
          "pioneering",
          "network",
          "fluid",
          "flows",
          "achieving",
          "higher",
          "speeds",
          "without",
          "compromising",
          "accuracy",
          "management",
          "role",
          "expressed",
          "deep",
          "delve",
          "deeper",
          "analytics",
          "proactive",
          "approach",
          "presented",
          "case",
          "offer",
          "integral",
          "part",
          "finance",
          "commercial",
          "trading",
          "closely",
          "other",
          "cross",
          "functional",
          "teams",
          "array",
          "statistical",
          "involved",
          "deployment",
          "resulting",
          "value",
          "addition",
          "around",
          "25m",
          "organization",
          "effectively",
          "utilized",
          "optimize",
          "various",
          "processes",
          "additionally",
          "adaptability",
          "quick",
          "enabled",
          "contribute",
          "collaborative",
          "environment",
          "achievements",
          "received",
          "lead",
          "country",
          "across",
          "entire",
          "chemical",
          "business",
          "course",
          "achieve",
          "extensive",
          "immensely",
          "task",
          "when",
          "coupled",
          "relevant",
          "grow",
          "excel",
          "while",
          "contributions",
          "collaborating",
          "colleagues",
          "backgrounds",
          "including",
          "many",
          "ph",
          "d",
          "holders",
          "ambition",
          "witnessing",
          "expertise",
          "like",
          "statistics",
          "bayesian",
          "reinforcement",
          "motivated",
          "intricate",
          "depth",
          "apply",
          "practically",
          "exposure",
          "expanded",
          "horizons",
          "embark",
          "firmly",
          "believe",
          "can",
          "be",
          "big",
          "equalizer",
          "bridging",
          "gaps",
          "helping",
          "people",
          "numerous",
          "ways",
          "multidisciplinary",
          "revolutionize",
          "industries",
          "quality",
          "life",
          "individuals",
          "communities",
          "particularly",
          "passionate",
          "about",
          "concept",
          "leverage",
          "capabilities",
          "build",
          "environmentally",
          "includes",
          "applications",
          "areas",
          "renewable",
          "energy",
          "optimization",
          "resource",
          "conservation",
          "monitoring",
          "pursuit",
          "intend",
          "align",
          "goals",
          "see",
          "vital",
          "step",
          "acquiring",
          "necessary",
          "ethical",
          "hydro",
          "informatics",
          "group",
          "aspire",
          "tackling",
          "tangible",
          "issues",
          "related",
          "preservation",
          "particular",
          "lies",
          "contribution",
          "water",
          "demand",
          "summary",
          "accomplishments",
          "winning",
          "receiving",
          "underscores",
          "dedication",
          "experiences",
          "well",
          "prepared",
          "challenges",
          "opportunities",
          "offers",
          "exceptional",
          "ideal",
          "platform",
          "if",
          "admitted",
          "committed",
          "contributing",
          "advanced",
          "research",
          "community",
          "aspiring",
          "significant",
          "foster",
          "culture"
         ],
         "xaxis": "x",
         "y": [
          27,
          20,
          19,
          11,
          8,
          7,
          7,
          7,
          6,
          6,
          6,
          5,
          5,
          5,
          5,
          5,
          5,
          4,
          4,
          4,
          4,
          4,
          4,
          4,
          4,
          4,
          4,
          4,
          4,
          4,
          4,
          4,
          4,
          3,
          3,
          3,
          3,
          3,
          3,
          3,
          3,
          3,
          3,
          3,
          3,
          3,
          3,
          3,
          3,
          3,
          3,
          2,
          2,
          2,
          2,
          2,
          2,
          2,
          2,
          2,
          2,
          2,
          2,
          2,
          2,
          2,
          2,
          2,
          2,
          2,
          2,
          2,
          2,
          2,
          2,
          2,
          2,
          2,
          2,
          2,
          2,
          2,
          2,
          2,
          2,
          2,
          2,
          2,
          2,
          2,
          2,
          2,
          2,
          2,
          2,
          2,
          2,
          2,
          2,
          2,
          2,
          2,
          2,
          2,
          2,
          2,
          2,
          2,
          2,
          2,
          2,
          2,
          2,
          2,
          2,
          2,
          2,
          2,
          2,
          2,
          2,
          2,
          2,
          2,
          2,
          2,
          1,
          1,
          1,
          1,
          1,
          1,
          1,
          1,
          1,
          1,
          1,
          1,
          1,
          1,
          1,
          1,
          1,
          1,
          1,
          1,
          1,
          1,
          1,
          1,
          1,
          1,
          1,
          1,
          1,
          1,
          1,
          1,
          1,
          1,
          1,
          1,
          1,
          1,
          1,
          1,
          1,
          1,
          1,
          1,
          1,
          1,
          1,
          1,
          1,
          1,
          1,
          1,
          1,
          1,
          1,
          1,
          1,
          1,
          1,
          1,
          1,
          1,
          1,
          1,
          1,
          1,
          1,
          1,
          1,
          1,
          1,
          1,
          1,
          1,
          1,
          1,
          1,
          1,
          1,
          1,
          1,
          1,
          1,
          1,
          1,
          1,
          1,
          1,
          1,
          1,
          1,
          1,
          1,
          1,
          1,
          1,
          1,
          1,
          1,
          1,
          1,
          1,
          1,
          1,
          1,
          1,
          1,
          1,
          1,
          1,
          1,
          1,
          1,
          1,
          1,
          1,
          1,
          1,
          1,
          1,
          1,
          1,
          1,
          1,
          1,
          1,
          1,
          1,
          1,
          1,
          1,
          1,
          1,
          1,
          1,
          1,
          1,
          1,
          1,
          1,
          1,
          1,
          1,
          1,
          1,
          1,
          1,
          1,
          1,
          1,
          1,
          1,
          1,
          1,
          1,
          1,
          1,
          1,
          1,
          1,
          1,
          1,
          1,
          1,
          1,
          1,
          1,
          1,
          1,
          1,
          1,
          1,
          1,
          1,
          1,
          1,
          1,
          1,
          1,
          1,
          1,
          1,
          1,
          1,
          1,
          1,
          1,
          1,
          1,
          1,
          1,
          1,
          1,
          1,
          1,
          1,
          1,
          1,
          1,
          1,
          1,
          1,
          1,
          1,
          1,
          1,
          1,
          1,
          1,
          1,
          1,
          1,
          1,
          1,
          1,
          1,
          1,
          1,
          1,
          1,
          1,
          1,
          1,
          1,
          1,
          1,
          1,
          1,
          1,
          1,
          1,
          1,
          1,
          1,
          1,
          1,
          1,
          1,
          1,
          1,
          1,
          1,
          1,
          1,
          1,
          1,
          1,
          1,
          1,
          1,
          1,
          1,
          1,
          1,
          1,
          1,
          1,
          1,
          1,
          1,
          1,
          1,
          1,
          1,
          1,
          1,
          1,
          1,
          1,
          1,
          1,
          1,
          1,
          1,
          1,
          1,
          1,
          1,
          1,
          1,
          1,
          1,
          1,
          1,
          1,
          1,
          1,
          1,
          1,
          1,
          1,
          1,
          1,
          1,
          1,
          1,
          1,
          1,
          1,
          1,
          1,
          1,
          1,
          1,
          1,
          1,
          1
         ],
         "yaxis": "y"
        }
       ],
       "layout": {
        "barmode": "relative",
        "legend": {
         "tracegroupgap": 0
        },
        "margin": {
         "t": 60
        },
        "template": {
         "data": {
          "bar": [
           {
            "error_x": {
             "color": "#2a3f5f"
            },
            "error_y": {
             "color": "#2a3f5f"
            },
            "marker": {
             "line": {
              "color": "#E5ECF6",
              "width": 0.5
             },
             "pattern": {
              "fillmode": "overlay",
              "size": 10,
              "solidity": 0.2
             }
            },
            "type": "bar"
           }
          ],
          "barpolar": [
           {
            "marker": {
             "line": {
              "color": "#E5ECF6",
              "width": 0.5
             },
             "pattern": {
              "fillmode": "overlay",
              "size": 10,
              "solidity": 0.2
             }
            },
            "type": "barpolar"
           }
          ],
          "carpet": [
           {
            "aaxis": {
             "endlinecolor": "#2a3f5f",
             "gridcolor": "white",
             "linecolor": "white",
             "minorgridcolor": "white",
             "startlinecolor": "#2a3f5f"
            },
            "baxis": {
             "endlinecolor": "#2a3f5f",
             "gridcolor": "white",
             "linecolor": "white",
             "minorgridcolor": "white",
             "startlinecolor": "#2a3f5f"
            },
            "type": "carpet"
           }
          ],
          "choropleth": [
           {
            "colorbar": {
             "outlinewidth": 0,
             "ticks": ""
            },
            "type": "choropleth"
           }
          ],
          "contour": [
           {
            "colorbar": {
             "outlinewidth": 0,
             "ticks": ""
            },
            "colorscale": [
             [
              0,
              "#0d0887"
             ],
             [
              0.1111111111111111,
              "#46039f"
             ],
             [
              0.2222222222222222,
              "#7201a8"
             ],
             [
              0.3333333333333333,
              "#9c179e"
             ],
             [
              0.4444444444444444,
              "#bd3786"
             ],
             [
              0.5555555555555556,
              "#d8576b"
             ],
             [
              0.6666666666666666,
              "#ed7953"
             ],
             [
              0.7777777777777778,
              "#fb9f3a"
             ],
             [
              0.8888888888888888,
              "#fdca26"
             ],
             [
              1,
              "#f0f921"
             ]
            ],
            "type": "contour"
           }
          ],
          "contourcarpet": [
           {
            "colorbar": {
             "outlinewidth": 0,
             "ticks": ""
            },
            "type": "contourcarpet"
           }
          ],
          "heatmap": [
           {
            "colorbar": {
             "outlinewidth": 0,
             "ticks": ""
            },
            "colorscale": [
             [
              0,
              "#0d0887"
             ],
             [
              0.1111111111111111,
              "#46039f"
             ],
             [
              0.2222222222222222,
              "#7201a8"
             ],
             [
              0.3333333333333333,
              "#9c179e"
             ],
             [
              0.4444444444444444,
              "#bd3786"
             ],
             [
              0.5555555555555556,
              "#d8576b"
             ],
             [
              0.6666666666666666,
              "#ed7953"
             ],
             [
              0.7777777777777778,
              "#fb9f3a"
             ],
             [
              0.8888888888888888,
              "#fdca26"
             ],
             [
              1,
              "#f0f921"
             ]
            ],
            "type": "heatmap"
           }
          ],
          "heatmapgl": [
           {
            "colorbar": {
             "outlinewidth": 0,
             "ticks": ""
            },
            "colorscale": [
             [
              0,
              "#0d0887"
             ],
             [
              0.1111111111111111,
              "#46039f"
             ],
             [
              0.2222222222222222,
              "#7201a8"
             ],
             [
              0.3333333333333333,
              "#9c179e"
             ],
             [
              0.4444444444444444,
              "#bd3786"
             ],
             [
              0.5555555555555556,
              "#d8576b"
             ],
             [
              0.6666666666666666,
              "#ed7953"
             ],
             [
              0.7777777777777778,
              "#fb9f3a"
             ],
             [
              0.8888888888888888,
              "#fdca26"
             ],
             [
              1,
              "#f0f921"
             ]
            ],
            "type": "heatmapgl"
           }
          ],
          "histogram": [
           {
            "marker": {
             "pattern": {
              "fillmode": "overlay",
              "size": 10,
              "solidity": 0.2
             }
            },
            "type": "histogram"
           }
          ],
          "histogram2d": [
           {
            "colorbar": {
             "outlinewidth": 0,
             "ticks": ""
            },
            "colorscale": [
             [
              0,
              "#0d0887"
             ],
             [
              0.1111111111111111,
              "#46039f"
             ],
             [
              0.2222222222222222,
              "#7201a8"
             ],
             [
              0.3333333333333333,
              "#9c179e"
             ],
             [
              0.4444444444444444,
              "#bd3786"
             ],
             [
              0.5555555555555556,
              "#d8576b"
             ],
             [
              0.6666666666666666,
              "#ed7953"
             ],
             [
              0.7777777777777778,
              "#fb9f3a"
             ],
             [
              0.8888888888888888,
              "#fdca26"
             ],
             [
              1,
              "#f0f921"
             ]
            ],
            "type": "histogram2d"
           }
          ],
          "histogram2dcontour": [
           {
            "colorbar": {
             "outlinewidth": 0,
             "ticks": ""
            },
            "colorscale": [
             [
              0,
              "#0d0887"
             ],
             [
              0.1111111111111111,
              "#46039f"
             ],
             [
              0.2222222222222222,
              "#7201a8"
             ],
             [
              0.3333333333333333,
              "#9c179e"
             ],
             [
              0.4444444444444444,
              "#bd3786"
             ],
             [
              0.5555555555555556,
              "#d8576b"
             ],
             [
              0.6666666666666666,
              "#ed7953"
             ],
             [
              0.7777777777777778,
              "#fb9f3a"
             ],
             [
              0.8888888888888888,
              "#fdca26"
             ],
             [
              1,
              "#f0f921"
             ]
            ],
            "type": "histogram2dcontour"
           }
          ],
          "mesh3d": [
           {
            "colorbar": {
             "outlinewidth": 0,
             "ticks": ""
            },
            "type": "mesh3d"
           }
          ],
          "parcoords": [
           {
            "line": {
             "colorbar": {
              "outlinewidth": 0,
              "ticks": ""
             }
            },
            "type": "parcoords"
           }
          ],
          "pie": [
           {
            "automargin": true,
            "type": "pie"
           }
          ],
          "scatter": [
           {
            "fillpattern": {
             "fillmode": "overlay",
             "size": 10,
             "solidity": 0.2
            },
            "type": "scatter"
           }
          ],
          "scatter3d": [
           {
            "line": {
             "colorbar": {
              "outlinewidth": 0,
              "ticks": ""
             }
            },
            "marker": {
             "colorbar": {
              "outlinewidth": 0,
              "ticks": ""
             }
            },
            "type": "scatter3d"
           }
          ],
          "scattercarpet": [
           {
            "marker": {
             "colorbar": {
              "outlinewidth": 0,
              "ticks": ""
             }
            },
            "type": "scattercarpet"
           }
          ],
          "scattergeo": [
           {
            "marker": {
             "colorbar": {
              "outlinewidth": 0,
              "ticks": ""
             }
            },
            "type": "scattergeo"
           }
          ],
          "scattergl": [
           {
            "marker": {
             "colorbar": {
              "outlinewidth": 0,
              "ticks": ""
             }
            },
            "type": "scattergl"
           }
          ],
          "scattermapbox": [
           {
            "marker": {
             "colorbar": {
              "outlinewidth": 0,
              "ticks": ""
             }
            },
            "type": "scattermapbox"
           }
          ],
          "scatterpolar": [
           {
            "marker": {
             "colorbar": {
              "outlinewidth": 0,
              "ticks": ""
             }
            },
            "type": "scatterpolar"
           }
          ],
          "scatterpolargl": [
           {
            "marker": {
             "colorbar": {
              "outlinewidth": 0,
              "ticks": ""
             }
            },
            "type": "scatterpolargl"
           }
          ],
          "scatterternary": [
           {
            "marker": {
             "colorbar": {
              "outlinewidth": 0,
              "ticks": ""
             }
            },
            "type": "scatterternary"
           }
          ],
          "surface": [
           {
            "colorbar": {
             "outlinewidth": 0,
             "ticks": ""
            },
            "colorscale": [
             [
              0,
              "#0d0887"
             ],
             [
              0.1111111111111111,
              "#46039f"
             ],
             [
              0.2222222222222222,
              "#7201a8"
             ],
             [
              0.3333333333333333,
              "#9c179e"
             ],
             [
              0.4444444444444444,
              "#bd3786"
             ],
             [
              0.5555555555555556,
              "#d8576b"
             ],
             [
              0.6666666666666666,
              "#ed7953"
             ],
             [
              0.7777777777777778,
              "#fb9f3a"
             ],
             [
              0.8888888888888888,
              "#fdca26"
             ],
             [
              1,
              "#f0f921"
             ]
            ],
            "type": "surface"
           }
          ],
          "table": [
           {
            "cells": {
             "fill": {
              "color": "#EBF0F8"
             },
             "line": {
              "color": "white"
             }
            },
            "header": {
             "fill": {
              "color": "#C8D4E3"
             },
             "line": {
              "color": "white"
             }
            },
            "type": "table"
           }
          ]
         },
         "layout": {
          "annotationdefaults": {
           "arrowcolor": "#2a3f5f",
           "arrowhead": 0,
           "arrowwidth": 1
          },
          "autotypenumbers": "strict",
          "coloraxis": {
           "colorbar": {
            "outlinewidth": 0,
            "ticks": ""
           }
          },
          "colorscale": {
           "diverging": [
            [
             0,
             "#8e0152"
            ],
            [
             0.1,
             "#c51b7d"
            ],
            [
             0.2,
             "#de77ae"
            ],
            [
             0.3,
             "#f1b6da"
            ],
            [
             0.4,
             "#fde0ef"
            ],
            [
             0.5,
             "#f7f7f7"
            ],
            [
             0.6,
             "#e6f5d0"
            ],
            [
             0.7,
             "#b8e186"
            ],
            [
             0.8,
             "#7fbc41"
            ],
            [
             0.9,
             "#4d9221"
            ],
            [
             1,
             "#276419"
            ]
           ],
           "sequential": [
            [
             0,
             "#0d0887"
            ],
            [
             0.1111111111111111,
             "#46039f"
            ],
            [
             0.2222222222222222,
             "#7201a8"
            ],
            [
             0.3333333333333333,
             "#9c179e"
            ],
            [
             0.4444444444444444,
             "#bd3786"
            ],
            [
             0.5555555555555556,
             "#d8576b"
            ],
            [
             0.6666666666666666,
             "#ed7953"
            ],
            [
             0.7777777777777778,
             "#fb9f3a"
            ],
            [
             0.8888888888888888,
             "#fdca26"
            ],
            [
             1,
             "#f0f921"
            ]
           ],
           "sequentialminus": [
            [
             0,
             "#0d0887"
            ],
            [
             0.1111111111111111,
             "#46039f"
            ],
            [
             0.2222222222222222,
             "#7201a8"
            ],
            [
             0.3333333333333333,
             "#9c179e"
            ],
            [
             0.4444444444444444,
             "#bd3786"
            ],
            [
             0.5555555555555556,
             "#d8576b"
            ],
            [
             0.6666666666666666,
             "#ed7953"
            ],
            [
             0.7777777777777778,
             "#fb9f3a"
            ],
            [
             0.8888888888888888,
             "#fdca26"
            ],
            [
             1,
             "#f0f921"
            ]
           ]
          },
          "colorway": [
           "#636efa",
           "#EF553B",
           "#00cc96",
           "#ab63fa",
           "#FFA15A",
           "#19d3f3",
           "#FF6692",
           "#B6E880",
           "#FF97FF",
           "#FECB52"
          ],
          "font": {
           "color": "#2a3f5f"
          },
          "geo": {
           "bgcolor": "white",
           "lakecolor": "white",
           "landcolor": "#E5ECF6",
           "showlakes": true,
           "showland": true,
           "subunitcolor": "white"
          },
          "hoverlabel": {
           "align": "left"
          },
          "hovermode": "closest",
          "mapbox": {
           "style": "light"
          },
          "paper_bgcolor": "white",
          "plot_bgcolor": "#E5ECF6",
          "polar": {
           "angularaxis": {
            "gridcolor": "white",
            "linecolor": "white",
            "ticks": ""
           },
           "bgcolor": "#E5ECF6",
           "radialaxis": {
            "gridcolor": "white",
            "linecolor": "white",
            "ticks": ""
           }
          },
          "scene": {
           "xaxis": {
            "backgroundcolor": "#E5ECF6",
            "gridcolor": "white",
            "gridwidth": 2,
            "linecolor": "white",
            "showbackground": true,
            "ticks": "",
            "zerolinecolor": "white"
           },
           "yaxis": {
            "backgroundcolor": "#E5ECF6",
            "gridcolor": "white",
            "gridwidth": 2,
            "linecolor": "white",
            "showbackground": true,
            "ticks": "",
            "zerolinecolor": "white"
           },
           "zaxis": {
            "backgroundcolor": "#E5ECF6",
            "gridcolor": "white",
            "gridwidth": 2,
            "linecolor": "white",
            "showbackground": true,
            "ticks": "",
            "zerolinecolor": "white"
           }
          },
          "shapedefaults": {
           "line": {
            "color": "#2a3f5f"
           }
          },
          "ternary": {
           "aaxis": {
            "gridcolor": "white",
            "linecolor": "white",
            "ticks": ""
           },
           "baxis": {
            "gridcolor": "white",
            "linecolor": "white",
            "ticks": ""
           },
           "bgcolor": "#E5ECF6",
           "caxis": {
            "gridcolor": "white",
            "linecolor": "white",
            "ticks": ""
           }
          },
          "title": {
           "x": 0.05
          },
          "xaxis": {
           "automargin": true,
           "gridcolor": "white",
           "linecolor": "white",
           "ticks": "",
           "title": {
            "standoff": 15
           },
           "zerolinecolor": "white",
           "zerolinewidth": 2
          },
          "yaxis": {
           "automargin": true,
           "gridcolor": "white",
           "linecolor": "white",
           "ticks": "",
           "title": {
            "standoff": 15
           },
           "zerolinecolor": "white",
           "zerolinewidth": 2
          }
         }
        },
        "title": {
         "text": "Word Frequency Bar Graph"
        },
        "xaxis": {
         "anchor": "y",
         "domain": [
          0,
          1
         ],
         "title": {
          "text": "Words"
         }
        },
        "yaxis": {
         "anchor": "x",
         "domain": [
          0,
          1
         ],
         "title": {
          "text": "Frequency"
         }
        }
       }
      }
     },
     "metadata": {},
     "output_type": "display_data"
    }
   ],
   "source": [
    "common_words = [\"the\", \"and\", \"is\", \"a\", \"it\", \"in\", \"this\", \"an\", \"of\", \"with\",\"my\",\"a\",\"m\",\"texas\",\"to\",\"me\"]\n",
    "\n",
    "# Tokenize the text into words\n",
    "words = re.findall(r'\\w+', text.lower())\n",
    "\n",
    "# Remove common words and words with frequency of 1\n",
    "filtered_words = [word for word in words if word not in common_words]\n",
    "word_count = Counter(filtered_words)\n",
    "\n",
    "# Sort words by frequency in descending order\n",
    "sorted_word_count = sorted(word_count.items(), key=lambda item: item[1], reverse=True)\n",
    "\n",
    "# Separate sorted words and frequencies\n",
    "word_list, frequency_list = zip(*sorted_word_count)\n",
    "\n",
    "# Create a bar graph using Plotly\n",
    "fig = px.bar(x=word_list, y=frequency_list, labels={'x': 'Words', 'y': 'Frequency'})\n",
    "fig.update_layout(title_text='Word Frequency Bar Graph')\n",
    "\n",
    "# Display the graph in Jupyter Notebook\n",
    "display(fig)"
   ]
  },
  {
   "cell_type": "code",
   "execution_count": null,
   "metadata": {},
   "outputs": [],
   "source": []
  }
 ],
 "metadata": {
  "kernelspec": {
   "display_name": "Python 3",
   "language": "python",
   "name": "python3"
  },
  "language_info": {
   "codemirror_mode": {
    "name": "ipython",
    "version": 3
   },
   "file_extension": ".py",
   "mimetype": "text/x-python",
   "name": "python",
   "nbconvert_exporter": "python",
   "pygments_lexer": "ipython3",
   "version": "3.9.5"
  },
  "orig_nbformat": 4
 },
 "nbformat": 4,
 "nbformat_minor": 2
}
